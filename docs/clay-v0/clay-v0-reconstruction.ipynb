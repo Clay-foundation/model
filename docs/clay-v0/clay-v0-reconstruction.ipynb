{
 "cells": [
  {
   "cell_type": "markdown",
   "id": "76ed0078-447f-4374-b6ba-a8b4a366188d",
   "metadata": {},
   "source": [
    "# CLAY v0 - Quality of reconstruction by the model "
   ]
  },
  {
   "cell_type": "code",
   "execution_count": null,
   "id": "ea0176a6-97a1-4af6-af75-b9e52e52fbaf",
   "metadata": {},
   "outputs": [],
   "source": [
    "import sys\n",
    "\n",
    "sys.path.append(\"../\")"
   ]
  },
  {
   "cell_type": "code",
   "execution_count": null,
   "id": "5ea314d0-176a-4ee3-b738-6152d27275d9",
   "metadata": {},
   "outputs": [],
   "source": [
    "from pathlib import Path\n",
    "\n",
    "import einops\n",
    "import matplotlib.pyplot as plt\n",
    "import pandas as pd\n",
    "import torch\n",
    "from einops import rearrange\n",
    "from src.datamodule import ClayDataModule, ClayDataset\n",
    "from src.model_clay import CLAYModule"
   ]
  },
  {
   "cell_type": "code",
   "execution_count": null,
   "id": "37f4a735-18e6-48d7-9b58-e8d188e96b54",
   "metadata": {},
   "outputs": [],
   "source": [
    "# data directory for all chips\n",
    "DATA_DIR = \"../data/02\"\n",
    "# path of best model checkpoint for Clay v0\n",
    "CKPT_PATH = \"../checkpoints/v0/mae_epoch-24_val-loss-0.46.ckpt\""
   ]
  },
  {
   "cell_type": "markdown",
   "id": "4c300730-b0b0-4c3d-8a0d-d5e3ac018641",
   "metadata": {},
   "source": [
    "## Load Model & DataModule"
   ]
  },
  {
   "cell_type": "code",
   "execution_count": null,
   "id": "4c5f2abf-5e9c-4def-88d9-38136307b420",
   "metadata": {},
   "outputs": [],
   "source": [
    "# Load the model & set in eval mode\n",
    "model = CLAYModule.load_from_checkpoint(CKPT_PATH, mask_ratio=0.7)\n",
    "model.eval();"
   ]
  },
  {
   "cell_type": "code",
   "execution_count": null,
   "id": "348c0573-7670-47a6-9e13-c6de36493b58",
   "metadata": {},
   "outputs": [],
   "source": [
    "data_dir = Path(DATA_DIR)\n",
    "\n",
    "# Load the Clay DataModule\n",
    "ds = ClayDataset(chips_path=list(data_dir.glob(\"**/*.tif\")))\n",
    "dm = ClayDataModule(data_dir=str(data_dir), batch_size=8)\n",
    "dm.setup(stage=\"fit\")\n",
    "\n",
    "# Load the train DataLoader\n",
    "trn_dl = iter(dm.train_dataloader())"
   ]
  },
  {
   "cell_type": "code",
   "execution_count": null,
   "id": "af3b38f7-f193-4b7d-aada-b4c8abcce7ed",
   "metadata": {},
   "outputs": [],
   "source": [
    "# Load the first batch of chips\n",
    "batch = next(trn_dl)\n",
    "batch.keys()"
   ]
  },
  {
   "cell_type": "code",
   "execution_count": null,
   "id": "59f9a028-a789-40c9-8f23-eb2a0e1c66eb",
   "metadata": {},
   "outputs": [],
   "source": [
    "batch[\"pixels\"].shape, batch[\"latlon\"].shape, batch[\"timestep\"].shape"
   ]
  },
  {
   "cell_type": "markdown",
   "id": "4d52f962-d20d-4966-af4d-fd5509520356",
   "metadata": {},
   "source": [
    "Each batch has chips of shape `13 x 512 x 512`, normalized `lat` & `lon` coords & normalized timestep information as `year`, `month` & `day`."
   ]
  },
  {
   "cell_type": "code",
   "execution_count": null,
   "id": "f5e6dfc4-57fe-4296-9a57-9bd384ec61af",
   "metadata": {},
   "outputs": [],
   "source": [
    "# Save a copy of batch to visualize later\n",
    "_batch = batch[\"pixels\"].detach().clone().cpu().numpy()"
   ]
  },
  {
   "attachments": {},
   "cell_type": "markdown",
   "id": "e7c46bb7-3e25-454d-b345-1ca3ec1efb69",
   "metadata": {},
   "source": [
    "## Pass data through the model"
   ]
  },
  {
   "cell_type": "code",
   "execution_count": null,
   "id": "3bed50b3-a481-44ba-b04f-440ba5fb57ed",
   "metadata": {},
   "outputs": [],
   "source": [
    "# Pass the pixels through the encoder & decoder of CLAY\n",
    "with torch.no_grad():\n",
    "    # Move data from to the device of model\n",
    "    batch[\"pixels\"] = batch[\"pixels\"].to(model.device)\n",
    "    batch[\"timestep\"] = batch[\"timestep\"].to(model.device)\n",
    "    batch[\"latlon\"] = batch[\"latlon\"].to(model.device)\n",
    "\n",
    "    # Pass pixels, latlon, timestep through the encoder to create encoded patches\n",
    "    (\n",
    "        unmasked_patches,\n",
    "        unmasked_indices,\n",
    "        masked_indices,\n",
    "        masked_matrix,\n",
    "    ) = model.model.encoder(batch)\n",
    "\n",
    "    # Pass the unmasked_patches through the decoder to reconstruct the pixel space\n",
    "    pixels = model.model.decoder(unmasked_patches, unmasked_indices, masked_indices)"
   ]
  },
  {
   "cell_type": "code",
   "execution_count": null,
   "id": "cb073da6-149b-4dab-b9f8-8ae5c5dd5178",
   "metadata": {},
   "outputs": [],
   "source": [
    "(\n",
    "    unmasked_patches.shape,\n",
    "    unmasked_indices.shape,\n",
    "    masked_indices.shape,\n",
    "    masked_matrix.shape,\n",
    ")"
   ]
  },
  {
   "cell_type": "code",
   "execution_count": null,
   "id": "7b1a36db-61a8-4cfe-8970-9ce2142fb2bd",
   "metadata": {},
   "outputs": [],
   "source": [
    "# Reconstructed chips from 70% masked inputs to the model\n",
    "pixels.shape"
   ]
  },
  {
   "cell_type": "code",
   "execution_count": null,
   "id": "c4ed496a-1a38-4284-befc-0e74065595e0",
   "metadata": {},
   "outputs": [],
   "source": [
    "# Rearrange the pixels into chips of size `13 x 512 x 512`\n",
    "pixels = rearrange(pixels, \"b c (h w) (p1 p2) -> b c (h p1) (w p2)\", h=16, p1=32)\n",
    "pixels.shape"
   ]
  },
  {
   "cell_type": "markdown",
   "id": "cbeae41b-ffa4-4ca1-966d-529cfdc4c725",
   "metadata": {},
   "source": [
    "## Plot the pixel reconstructions from the CLAY model"
   ]
  },
  {
   "cell_type": "code",
   "execution_count": null,
   "id": "4f46be28-514b-4089-a592-d851ccd2da31",
   "metadata": {},
   "outputs": [],
   "source": [
    "def plot_pixel_reconstruction():\n",
    "    fig, axes = plt.subplots(16, 13, figsize=(20, 20))\n",
    "\n",
    "    for j_ in range(8):\n",
    "        j = j_\n",
    "        inp = _batch[j]\n",
    "        out = pixels[j].detach().cpu().numpy()\n",
    "        j *= 2\n",
    "        for i in range(13):\n",
    "            axes[j, i].imshow(inp[i], cmap=\"viridis\")\n",
    "            axes[(j + 1), i].imshow(out[i], cmap=\"viridis\")\n",
    "            axes[j, i].set_axis_off()\n",
    "            axes[(j + 1), i].set_axis_off()\n",
    "\n",
    "    # Set column labels\n",
    "    cols = [\n",
    "        \"Blue\",\n",
    "        \"Green\",\n",
    "        \"Red\",\n",
    "        \"RedEdge\",\n",
    "        \"RedEdge\",\n",
    "        \"RedEdge\",\n",
    "        \"NIR\",\n",
    "        \"RedEdge\",\n",
    "        \"SWIR\",\n",
    "        \"SWIR\",\n",
    "        \"VV\",\n",
    "        \"VH\",\n",
    "        \"DEM\",\n",
    "    ]\n",
    "    for ax, col in zip(axes[0], cols):\n",
    "        ax.set_title(col)\n",
    "\n",
    "    plt.tight_layout()"
   ]
  },
  {
   "cell_type": "code",
   "execution_count": null,
   "id": "002fe404-51de-4495-8ab6-268ec94e0eeb",
   "metadata": {},
   "outputs": [],
   "source": [
    "plot_pixel_reconstruction()"
   ]
  },
  {
   "cell_type": "markdown",
   "id": "b390e40f-4880-4c25-8b76-992d6e049e26",
   "metadata": {},
   "source": [
    "> In the figure above, each chip in the batch of eight is represented by two rows: the first row shows the actual image and the second row displays its prediction."
   ]
  },
  {
   "cell_type": "markdown",
   "id": "6a337c98-60d0-47d2-90d3-4d419cb34e7b",
   "metadata": {},
   "source": [
    "## Verify quality of reconstruction"
   ]
  },
  {
   "cell_type": "code",
   "execution_count": null,
   "id": "29ca1283-71cd-4a31-9136-5af1d8935d8f",
   "metadata": {},
   "outputs": [],
   "source": [
    "order = 3  # pick a chip from the batch of size 8\n",
    "band = 1  # pick a band from 13\n",
    "\n",
    "# represents the group each band falls under,\n",
    "# for bands 0-2: mask_order=0,\n",
    "# 3,4,5,7: mask_order=1,\n",
    "# 6: mask_order=2,\n",
    "# 8,9: mask_order=3,\n",
    "# 10,11: masked_order=4,\n",
    "# 12: mask_order=5\n",
    "mask_order = 0"
   ]
  },
  {
   "cell_type": "code",
   "execution_count": null,
   "id": "95c35b54-1c95-4b97-a02d-ae716f9b8b63",
   "metadata": {},
   "outputs": [],
   "source": [
    "# Select one chip from the batch of inputs & reconstructed pixels\n",
    "chip = batch[\"pixels\"][order].detach().cpu().numpy()\n",
    "pred_chip = pixels[order].detach().cpu().numpy()"
   ]
  },
  {
   "cell_type": "code",
   "execution_count": null,
   "id": "d599a04b-25a3-43ae-8c08-c0763ecae3f2",
   "metadata": {},
   "outputs": [],
   "source": [
    "# Masked matrix stores the position information of masked & unmasked patches of input\n",
    "mask = masked_matrix[order]\n",
    "mask = rearrange(mask[mask_order], \"(h w) -> h w\", h=16).detach().cpu().numpy()"
   ]
  },
  {
   "cell_type": "code",
   "execution_count": null,
   "id": "e7322b93-ccf3-4f12-b6f5-9cfa4a900d80",
   "metadata": {},
   "outputs": [],
   "source": [
    "pd.DataFrame(mask).style.format(\"{:.1f}\").background_gradient(cmap=\"bwr\")"
   ]
  },
  {
   "cell_type": "markdown",
   "id": "4dde9a5c-974e-4132-9822-215f35c883e9",
   "metadata": {},
   "source": [
    "> `1` represents masked patch position & `0` represents unmasked patch position "
   ]
  },
  {
   "cell_type": "code",
   "execution_count": null,
   "id": "7c556442-41eb-4557-a924-d3b22092f68a",
   "metadata": {},
   "outputs": [],
   "source": [
    "# Scale the mask matrix to size `512 x 512`\n",
    "upmask = einops.repeat(\n",
    "    mask, \"h w -> (h repeat_h) (w repeat_w)\", repeat_h=32, repeat_w=32\n",
    ")\n",
    "plt.imshow(upmask, cmap=\"bwr\")"
   ]
  },
  {
   "cell_type": "markdown",
   "id": "f5d6e897-bd10-49cd-9550-953749e06429",
   "metadata": {},
   "source": [
    "> `Red`: Masked patches & `Blue`: Unmasked Patches"
   ]
  },
  {
   "cell_type": "markdown",
   "id": "5af98635-93ea-417f-af07-f276457e6200",
   "metadata": {},
   "source": [
    "### Plot the quality of reconstruction"
   ]
  },
  {
   "cell_type": "code",
   "execution_count": null,
   "id": "c66858e6-9bbe-4974-b042-da60ee516ea5",
   "metadata": {},
   "outputs": [],
   "source": [
    "# Input to the CLAY model\n",
    "masked_chip = chip[band] * (1 - upmask)\n",
    "\n",
    "# Reconstruction from the CLAY model\n",
    "recreated_chip = pred_chip[band] * upmask\n",
    "recreated_chip_with_unmasked_patches = masked_chip + recreated_chip"
   ]
  },
  {
   "cell_type": "code",
   "execution_count": null,
   "id": "224d210b-642c-4ad4-acc0-f1b009a7f0a5",
   "metadata": {},
   "outputs": [],
   "source": [
    "fig, axes = plt.subplots(1, 4, figsize=(20, 5))\n",
    "\n",
    "for ax in axes:\n",
    "    ax.set_axis_off()\n",
    "\n",
    "axes[0].imshow(masked_chip)\n",
    "axes[0].set_title(\"Masked Input\")\n",
    "\n",
    "axes[1].imshow(recreated_chip)\n",
    "axes[1].set_title(\"Reconstruction\")\n",
    "\n",
    "axes[2].imshow(recreated_chip_with_unmasked_patches)\n",
    "axes[2].set_title(\"Reconstruction + Unmasked Patches\")\n",
    "\n",
    "axes[3].imshow(chip[band])\n",
    "axes[3].set_title(\"Original Input\")"
   ]
  },
  {
   "cell_type": "code",
   "execution_count": null,
   "id": "0e458cd3-d1a8-41b2-9e85-7612c153a7ea",
   "metadata": {},
   "outputs": [],
   "source": []
  }
 ],
 "metadata": {
  "kernelspec": {
   "display_name": "Python 3 (ipykernel)",
   "language": "python",
   "name": "python3"
  },
  "language_info": {
   "codemirror_mode": {
    "name": "ipython",
    "version": 3
   },
   "file_extension": ".py",
   "mimetype": "text/x-python",
   "name": "python",
   "nbconvert_exporter": "python",
   "pygments_lexer": "ipython3",
   "version": "3.11.6"
  }
 },
 "nbformat": 4,
 "nbformat_minor": 5
}
