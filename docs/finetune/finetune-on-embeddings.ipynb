{
 "cells": [
  {
   "cell_type": "markdown",
   "metadata": {},
   "source": [
    "# Train classification on Embeddings\n",
    "\n",
    "In this notebook we show how to find marinas and baseball fields in \n",
    "the San Francisco area based on about 30k Clay embeddings.\n",
    "\n",
    "When this is executed as a script on a laptop, it should take only about\n",
    "2.5 seconds to open the data, train a classifier, and make predictions."
   ]
  },
  {
   "cell_type": "code",
   "execution_count": 1,
   "metadata": {},
   "outputs": [],
   "source": [
    "# If not installed, add lonboard to the environment by uncommenting the following line\n",
    "# ! pip install lonboard"
   ]
  },
  {
   "cell_type": "code",
   "execution_count": 2,
   "metadata": {},
   "outputs": [],
   "source": [
    "from pathlib import Path\n",
    "\n",
    "import geopandas as gpd\n",
    "import numpy as np\n",
    "import pandas as pd\n",
    "import requests\n",
    "from lonboard import Map, PolygonLayer\n",
    "from lonboard.colormap import apply_categorical_cmap\n",
    "from sklearn.ensemble import RandomForestClassifier\n",
    "from sklearn.metrics import accuracy_score, precision_score, recall_score\n",
    "from sklearn.model_selection import train_test_split"
   ]
  },
  {
   "cell_type": "markdown",
   "metadata": {},
   "source": [
    "## Download data\n",
    "\n",
    "Download all the data from the following huggingface dataset into a local data folder."
   ]
  },
  {
   "cell_type": "code",
   "execution_count": 3,
   "metadata": {},
   "outputs": [
    {
     "name": "stdout",
     "output_type": "stream",
     "text": [
      "../../data/classify-embeddings-sf-baseball-marinas/embeddings_ca_m_3712213_ne_10_060_20220518.gpq\n",
      "../../data/classify-embeddings-sf-baseball-marinas/embeddings_ca_m_3712213_nw_10_060_20220518.gpq\n",
      "../../data/classify-embeddings-sf-baseball-marinas/embeddings_ca_m_3712213_se_10_060_20220518.gpq\n",
      "../../data/classify-embeddings-sf-baseball-marinas/embeddings_ca_m_3712213_sw_10_060_20220518.gpq\n",
      "../../data/classify-embeddings-sf-baseball-marinas/embeddings_ca_m_3712214_sw_10_060_20220518.gpq\n",
      "../../data/classify-embeddings-sf-baseball-marinas/embeddings_ca_m_3712221_ne_10_060_20220518.gpq\n",
      "../../data/classify-embeddings-sf-baseball-marinas/embeddings_ca_m_3712221_nw_10_060_20220518.gpq\n",
      "../../data/classify-embeddings-sf-baseball-marinas/embeddings_ca_m_3712221_sw_10_060_20220518.gpq\n",
      "../../data/classify-embeddings-sf-baseball-marinas/embeddings_ca_m_3712222_sw_10_060_20220518.gpq\n",
      "../../data/classify-embeddings-sf-baseball-marinas/embeddings_ca_m_3712229_ne_10_060_20220518.gpq\n",
      "../../data/classify-embeddings-sf-baseball-marinas/embeddings_ca_m_3712230_nw_10_060_20220518.gpq\n",
      "../../data/classify-embeddings-sf-baseball-marinas/embeddings_ca_m_3712212_ne_10_060_20220519.gpq\n",
      "../../data/classify-embeddings-sf-baseball-marinas/embeddings_ca_m_3712212_nw_10_060_20220519.gpq\n",
      "../../data/classify-embeddings-sf-baseball-marinas/embeddings_ca_m_3712212_se_10_060_20220519.gpq\n",
      "../../data/classify-embeddings-sf-baseball-marinas/embeddings_ca_m_3712228_ne_10_060_20220519.gpq\n",
      "../../data/classify-embeddings-sf-baseball-marinas/embeddings_ca_m_3712221_se_10_060_20220518.gpq\n",
      "../../data/classify-embeddings-sf-baseball-marinas/embeddings_ca_m_3712222_nw_10_060_20220518.gpq\n",
      "../../data/classify-embeddings-sf-baseball-marinas/embeddings_ca_m_3712220_ne_10_060_20220519.gpq\n",
      "../../data/classify-embeddings-sf-baseball-marinas/embeddings_ca_m_3712229_nw_10_060_20220518.gpq\n",
      "../../data/classify-embeddings-sf-baseball-marinas/embeddings_ca_m_3712214_nw_10_060_20220518.gpq\n",
      "../../data/classify-embeddings-sf-baseball-marinas/marinas.geojson\n",
      "../../data/classify-embeddings-sf-baseball-marinas/baseball.geojson\n"
     ]
    }
   ],
   "source": [
    "files = [\n",
    "    \"embeddings_ca_m_3712213_ne_10_060_20220518.gpq\",\n",
    "    \"embeddings_ca_m_3712213_nw_10_060_20220518.gpq\",\n",
    "    \"embeddings_ca_m_3712213_se_10_060_20220518.gpq\",\n",
    "    \"embeddings_ca_m_3712213_sw_10_060_20220518.gpq\",\n",
    "    \"embeddings_ca_m_3712214_sw_10_060_20220518.gpq\",\n",
    "    \"embeddings_ca_m_3712221_ne_10_060_20220518.gpq\",\n",
    "    \"embeddings_ca_m_3712221_nw_10_060_20220518.gpq\",\n",
    "    \"embeddings_ca_m_3712221_sw_10_060_20220518.gpq\",\n",
    "    \"embeddings_ca_m_3712222_sw_10_060_20220518.gpq\",\n",
    "    \"embeddings_ca_m_3712229_ne_10_060_20220518.gpq\",\n",
    "    \"embeddings_ca_m_3712230_nw_10_060_20220518.gpq\",\n",
    "    \"embeddings_ca_m_3712212_ne_10_060_20220519.gpq\",\n",
    "    \"embeddings_ca_m_3712212_nw_10_060_20220519.gpq\",\n",
    "    \"embeddings_ca_m_3712212_se_10_060_20220519.gpq\",\n",
    "    \"embeddings_ca_m_3712228_ne_10_060_20220519.gpq\",\n",
    "    \"embeddings_ca_m_3712221_se_10_060_20220518.gpq\",\n",
    "    \"embeddings_ca_m_3712222_nw_10_060_20220518.gpq\",\n",
    "    \"embeddings_ca_m_3712220_ne_10_060_20220519.gpq\",\n",
    "    \"embeddings_ca_m_3712229_nw_10_060_20220518.gpq\",\n",
    "    \"embeddings_ca_m_3712214_nw_10_060_20220518.gpq\",\n",
    "    \"marinas.geojson\",\n",
    "    \"baseball.geojson\",\n",
    "]\n",
    "\n",
    "url_template = \"https://huggingface.co/datasets/made-with-clay/classify-embeddings-sf-baseball-marinas/resolve/main/{filename}\"\n",
    "\n",
    "for filename in files:\n",
    "    dst = f\"../../data/classify-embeddings-sf-baseball-marinas/{filename}\"\n",
    "    print(dst)\n",
    "    if Path(dst).exists():\n",
    "        continue\n",
    "    with requests.get(url_template.format(filename=filename)) as r:\n",
    "        r.raise_for_status()\n",
    "        with open(dst, \"wb\") as f:\n",
    "            f.write(r.content)"
   ]
  },
  {
   "cell_type": "markdown",
   "metadata": {},
   "source": [
    "## Load Clay embeddings\n",
    "\n",
    "We are going to use embeddings generated from 256x256 pixel chips created from NAIP imagery.\n",
    "The resolution of the imagery is 0.6m, so the chips represent squares of about 154x154 meters.\n",
    "\n",
    "In this example, embeddings are stored in geoparquet format, one file per NAIP scene. Each row\n",
    "contains the ID of the NAIP scene, the embedding data, and a bounding box geometry. All\n",
    "embeddings from one NAIP scene are contained in a single file. There are about 1800 embeddings\n",
    "per NAIP scene.\n",
    "\n",
    "Below we open the separate files and combine them into a single GeoPandas dataframe."
   ]
  },
  {
   "cell_type": "code",
   "execution_count": 4,
   "metadata": {},
   "outputs": [
    {
     "data": {
      "text/html": [
       "<div>\n",
       "<style scoped>\n",
       "    .dataframe tbody tr th:only-of-type {\n",
       "        vertical-align: middle;\n",
       "    }\n",
       "\n",
       "    .dataframe tbody tr th {\n",
       "        vertical-align: top;\n",
       "    }\n",
       "\n",
       "    .dataframe thead th {\n",
       "        text-align: right;\n",
       "    }\n",
       "</style>\n",
       "<table border=\"1\" class=\"dataframe\">\n",
       "  <thead>\n",
       "    <tr style=\"text-align: right;\">\n",
       "      <th></th>\n",
       "      <th>item_id</th>\n",
       "      <th>embeddings</th>\n",
       "      <th>geometry</th>\n",
       "    </tr>\n",
       "  </thead>\n",
       "  <tbody>\n",
       "    <tr>\n",
       "      <th>0</th>\n",
       "      <td>ca_m_3712212_nw_10_060_20220519</td>\n",
       "      <td>[-0.046016138, -0.04745782, -0.117088005, 0.05...</td>\n",
       "      <td>POLYGON ((-122.62556 37.87702, -122.62557 37.8...</td>\n",
       "    </tr>\n",
       "    <tr>\n",
       "      <th>1</th>\n",
       "      <td>ca_m_3712212_nw_10_060_20220519</td>\n",
       "      <td>[-0.020038588, -0.0016635053, 0.15959166, -0.1...</td>\n",
       "      <td>POLYGON ((-122.62382 37.87701, -122.62382 37.8...</td>\n",
       "    </tr>\n",
       "    <tr>\n",
       "      <th>2</th>\n",
       "      <td>ca_m_3712212_nw_10_060_20220519</td>\n",
       "      <td>[0.0027899437, 0.042846236, 0.17805487, -0.166...</td>\n",
       "      <td>POLYGON ((-122.62207 37.87701, -122.62208 37.8...</td>\n",
       "    </tr>\n",
       "    <tr>\n",
       "      <th>3</th>\n",
       "      <td>ca_m_3712212_nw_10_060_20220519</td>\n",
       "      <td>[-0.023520006, 0.020058865, 0.2087154, -0.1701...</td>\n",
       "      <td>POLYGON ((-122.62032 37.87700, -122.62033 37.8...</td>\n",
       "    </tr>\n",
       "    <tr>\n",
       "      <th>4</th>\n",
       "      <td>ca_m_3712212_nw_10_060_20220519</td>\n",
       "      <td>[-0.0062850136, 0.051816266, 0.2323465, -0.230...</td>\n",
       "      <td>POLYGON ((-122.61858 37.87700, -122.61858 37.8...</td>\n",
       "    </tr>\n",
       "    <tr>\n",
       "      <th>...</th>\n",
       "      <td>...</td>\n",
       "      <td>...</td>\n",
       "      <td>...</td>\n",
       "    </tr>\n",
       "    <tr>\n",
       "      <th>1781</th>\n",
       "      <td>ca_m_3712228_ne_10_060_20220519</td>\n",
       "      <td>[0.20395686, -0.051615402, 0.0030432416, -0.22...</td>\n",
       "      <td>POLYGON ((-122.50602 37.56316, -122.50603 37.5...</td>\n",
       "    </tr>\n",
       "    <tr>\n",
       "      <th>1782</th>\n",
       "      <td>ca_m_3712228_ne_10_060_20220519</td>\n",
       "      <td>[0.071957245, -0.07750198, -0.019656746, -0.16...</td>\n",
       "      <td>POLYGON ((-122.50428 37.56315, -122.50429 37.5...</td>\n",
       "    </tr>\n",
       "    <tr>\n",
       "      <th>1783</th>\n",
       "      <td>ca_m_3712228_ne_10_060_20220519</td>\n",
       "      <td>[0.19023652, -0.038485188, -0.00046398104, -0....</td>\n",
       "      <td>POLYGON ((-122.50254 37.56314, -122.50255 37.5...</td>\n",
       "    </tr>\n",
       "    <tr>\n",
       "      <th>1784</th>\n",
       "      <td>ca_m_3712228_ne_10_060_20220519</td>\n",
       "      <td>[0.23228532, 0.008541599, -0.024506139, -0.051...</td>\n",
       "      <td>POLYGON ((-122.50080 37.56313, -122.50081 37.5...</td>\n",
       "    </tr>\n",
       "    <tr>\n",
       "      <th>1785</th>\n",
       "      <td>ca_m_3712228_ne_10_060_20220519</td>\n",
       "      <td>[0.31645948, -0.039977077, -0.0001847957, -0.0...</td>\n",
       "      <td>POLYGON ((-122.49906 37.56313, -122.49907 37.5...</td>\n",
       "    </tr>\n",
       "  </tbody>\n",
       "</table>\n",
       "<p>36024 rows × 3 columns</p>\n",
       "</div>"
      ],
      "text/plain": [
       "                              item_id  \\\n",
       "0     ca_m_3712212_nw_10_060_20220519   \n",
       "1     ca_m_3712212_nw_10_060_20220519   \n",
       "2     ca_m_3712212_nw_10_060_20220519   \n",
       "3     ca_m_3712212_nw_10_060_20220519   \n",
       "4     ca_m_3712212_nw_10_060_20220519   \n",
       "...                               ...   \n",
       "1781  ca_m_3712228_ne_10_060_20220519   \n",
       "1782  ca_m_3712228_ne_10_060_20220519   \n",
       "1783  ca_m_3712228_ne_10_060_20220519   \n",
       "1784  ca_m_3712228_ne_10_060_20220519   \n",
       "1785  ca_m_3712228_ne_10_060_20220519   \n",
       "\n",
       "                                             embeddings  \\\n",
       "0     [-0.046016138, -0.04745782, -0.117088005, 0.05...   \n",
       "1     [-0.020038588, -0.0016635053, 0.15959166, -0.1...   \n",
       "2     [0.0027899437, 0.042846236, 0.17805487, -0.166...   \n",
       "3     [-0.023520006, 0.020058865, 0.2087154, -0.1701...   \n",
       "4     [-0.0062850136, 0.051816266, 0.2323465, -0.230...   \n",
       "...                                                 ...   \n",
       "1781  [0.20395686, -0.051615402, 0.0030432416, -0.22...   \n",
       "1782  [0.071957245, -0.07750198, -0.019656746, -0.16...   \n",
       "1783  [0.19023652, -0.038485188, -0.00046398104, -0....   \n",
       "1784  [0.23228532, 0.008541599, -0.024506139, -0.051...   \n",
       "1785  [0.31645948, -0.039977077, -0.0001847957, -0.0...   \n",
       "\n",
       "                                               geometry  \n",
       "0     POLYGON ((-122.62556 37.87702, -122.62557 37.8...  \n",
       "1     POLYGON ((-122.62382 37.87701, -122.62382 37.8...  \n",
       "2     POLYGON ((-122.62207 37.87701, -122.62208 37.8...  \n",
       "3     POLYGON ((-122.62032 37.87700, -122.62033 37.8...  \n",
       "4     POLYGON ((-122.61858 37.87700, -122.61858 37.8...  \n",
       "...                                                 ...  \n",
       "1781  POLYGON ((-122.50602 37.56316, -122.50603 37.5...  \n",
       "1782  POLYGON ((-122.50428 37.56315, -122.50429 37.5...  \n",
       "1783  POLYGON ((-122.50254 37.56314, -122.50255 37.5...  \n",
       "1784  POLYGON ((-122.50080 37.56313, -122.50081 37.5...  \n",
       "1785  POLYGON ((-122.49906 37.56313, -122.49907 37.5...  \n",
       "\n",
       "[36024 rows x 3 columns]"
      ]
     },
     "execution_count": 4,
     "metadata": {},
     "output_type": "execute_result"
    }
   ],
   "source": [
    "# Open embeddings DB\n",
    "embeddings = []\n",
    "for src in Path(\"../../data/classify-embeddings-sf-baseball-marinas/\").glob(\"*.gpq\"):\n",
    "    gdf = gpd.read_parquet(src)\n",
    "    embeddings.append(gdf)\n",
    "embeddings = pd.concat(embeddings)\n",
    "embeddings"
   ]
  },
  {
   "cell_type": "markdown",
   "metadata": {},
   "source": [
    "## Visualize embedding coverage\n",
    "\n",
    "We use lonboard to visualize the data used and produced in this exercise. The following map\n",
    "shows all embeddings. Some overlap between the scenes is visible too. So the scene edge areas\n",
    "are covered twice in the embeddings dataframe."
   ]
  },
  {
   "cell_type": "code",
   "execution_count": 5,
   "metadata": {},
   "outputs": [
    {
     "data": {
      "application/vnd.jupyter.widget-view+json": {
       "model_id": "d304d1fa0c864272b806748f3ceaa19c",
       "version_major": 2,
       "version_minor": 1
      },
      "text/plain": [
       "Map(layers=[PolygonLayer(get_fill_color=[255, 0, 200, 80], get_line_color=[130, 65, 100, 80], get_line_width=1…"
      ]
     },
     "execution_count": 5,
     "metadata": {},
     "output_type": "execute_result"
    }
   ],
   "source": [
    "layer = PolygonLayer.from_geopandas(\n",
    "    embeddings,\n",
    "    get_fill_color=[255, 0, 200, 80],\n",
    "    get_line_color=[130, 65, 100, 80],\n",
    "    get_line_width=10,\n",
    "    line_width_max_pixels=3,\n",
    ")\n",
    "m = Map(layer)\n",
    "m"
   ]
  },
  {
   "cell_type": "markdown",
   "metadata": {},
   "source": [
    "## Training data\n",
    "\n",
    "For this area, we manually created two small datasets that can be used for the example classification.\n",
    "\n",
    "One dataset marks locations of baseball fields, and the other one locations of marinas.\n",
    "\n",
    "To use the training data, we open the point dataset and make a spatial join with the embeddigns.\n",
    "This results in a  dataframe containing embeddings and their bounding boxes for all the training locations.\n",
    "\n",
    "The join adds the \"class\" column, containing the class label (1 is the target, 0 are all other locations).\n",
    "\n",
    "### Choose your example\n",
    "\n",
    "In the following cell, choose which set of training points to use. The input should be a point dataset\n",
    "with a `class` column, containing `1` for positive examples, and `0` for negative examples.\n",
    "\n",
    "Use your own dataset or use one of the two provided ones."
   ]
  },
  {
   "cell_type": "code",
   "execution_count": 6,
   "metadata": {},
   "outputs": [
    {
     "name": "stdout",
     "output_type": "stream",
     "text": [
      "Found 216 embeddings to train on\n",
      "29 marked locations\n",
      "187 negative examples\n"
     ]
    },
    {
     "data": {
      "text/html": [
       "<div>\n",
       "<style scoped>\n",
       "    .dataframe tbody tr th:only-of-type {\n",
       "        vertical-align: middle;\n",
       "    }\n",
       "\n",
       "    .dataframe tbody tr th {\n",
       "        vertical-align: top;\n",
       "    }\n",
       "\n",
       "    .dataframe thead th {\n",
       "        text-align: right;\n",
       "    }\n",
       "</style>\n",
       "<table border=\"1\" class=\"dataframe\">\n",
       "  <thead>\n",
       "    <tr style=\"text-align: right;\">\n",
       "      <th></th>\n",
       "      <th>item_id</th>\n",
       "      <th>embeddings</th>\n",
       "      <th>geometry</th>\n",
       "      <th>index_right</th>\n",
       "      <th>class</th>\n",
       "    </tr>\n",
       "  </thead>\n",
       "  <tbody>\n",
       "    <tr>\n",
       "      <th>36</th>\n",
       "      <td>ca_m_3712229_nw_10_060_20220518</td>\n",
       "      <td>[0.13175833, -0.09973948, -0.040465936, 0.0651...</td>\n",
       "      <td>POLYGON ((-122.43789 37.62681, -122.43790 37.6...</td>\n",
       "      <td>1</td>\n",
       "      <td>0</td>\n",
       "    </tr>\n",
       "    <tr>\n",
       "      <th>37</th>\n",
       "      <td>ca_m_3712229_nw_10_060_20220518</td>\n",
       "      <td>[0.082306586, -0.10373349, 0.020833228, 0.1467...</td>\n",
       "      <td>POLYGON ((-122.43615 37.62680, -122.43616 37.6...</td>\n",
       "      <td>3</td>\n",
       "      <td>0</td>\n",
       "    </tr>\n",
       "    <tr>\n",
       "      <th>870</th>\n",
       "      <td>ca_m_3712212_ne_10_060_20220519</td>\n",
       "      <td>[0.15164891, -0.08649829, 0.053330045, -0.1168...</td>\n",
       "      <td>POLYGON ((-122.50382 37.84638, -122.50383 37.8...</td>\n",
       "      <td>163</td>\n",
       "      <td>0</td>\n",
       "    </tr>\n",
       "    <tr>\n",
       "      <th>416</th>\n",
       "      <td>ca_m_3712213_se_10_060_20220518</td>\n",
       "      <td>[-0.09028356, -7.4659765e-05, -0.0054179365, 0...</td>\n",
       "      <td>POLYGON ((-122.37530 37.80046, -122.37532 37.7...</td>\n",
       "      <td>151</td>\n",
       "      <td>0</td>\n",
       "    </tr>\n",
       "    <tr>\n",
       "      <th>791</th>\n",
       "      <td>ca_m_3712213_se_10_060_20220518</td>\n",
       "      <td>[-0.11083804, 0.08467115, -0.15396121, -0.0175...</td>\n",
       "      <td>POLYGON ((-122.38414 37.78667, -122.38415 37.7...</td>\n",
       "      <td>149</td>\n",
       "      <td>0</td>\n",
       "    </tr>\n",
       "    <tr>\n",
       "      <th>...</th>\n",
       "      <td>...</td>\n",
       "      <td>...</td>\n",
       "      <td>...</td>\n",
       "      <td>...</td>\n",
       "      <td>...</td>\n",
       "    </tr>\n",
       "    <tr>\n",
       "      <th>64</th>\n",
       "      <td>ca_m_3712229_ne_10_060_20220518</td>\n",
       "      <td>[0.054444104, 0.076543145, -0.02271817, -0.036...</td>\n",
       "      <td>POLYGON ((-122.39275 37.62552, -122.39276 37.6...</td>\n",
       "      <td>84</td>\n",
       "      <td>0</td>\n",
       "    </tr>\n",
       "    <tr>\n",
       "      <th>65</th>\n",
       "      <td>ca_m_3712229_ne_10_060_20220518</td>\n",
       "      <td>[-0.06287075, 0.04157688, -0.12616414, 0.04595...</td>\n",
       "      <td>POLYGON ((-122.39101 37.62551, -122.39102 37.6...</td>\n",
       "      <td>90</td>\n",
       "      <td>0</td>\n",
       "    </tr>\n",
       "    <tr>\n",
       "      <th>66</th>\n",
       "      <td>ca_m_3712229_ne_10_060_20220518</td>\n",
       "      <td>[-0.0744138, 0.032512434, -0.025697831, 0.1158...</td>\n",
       "      <td>POLYGON ((-122.38927 37.62550, -122.38928 37.6...</td>\n",
       "      <td>96</td>\n",
       "      <td>0</td>\n",
       "    </tr>\n",
       "    <tr>\n",
       "      <th>67</th>\n",
       "      <td>ca_m_3712229_ne_10_060_20220518</td>\n",
       "      <td>[0.050141867, 0.03144994, -0.089793496, 0.0052...</td>\n",
       "      <td>POLYGON ((-122.38753 37.62549, -122.38754 37.6...</td>\n",
       "      <td>100</td>\n",
       "      <td>0</td>\n",
       "    </tr>\n",
       "    <tr>\n",
       "      <th>68</th>\n",
       "      <td>ca_m_3712229_ne_10_060_20220518</td>\n",
       "      <td>[0.0016791783, -0.009175467, -0.02405702, 0.06...</td>\n",
       "      <td>POLYGON ((-122.38579 37.62549, -122.38580 37.6...</td>\n",
       "      <td>106</td>\n",
       "      <td>0</td>\n",
       "    </tr>\n",
       "  </tbody>\n",
       "</table>\n",
       "<p>216 rows × 5 columns</p>\n",
       "</div>"
      ],
      "text/plain": [
       "                             item_id  \\\n",
       "36   ca_m_3712229_nw_10_060_20220518   \n",
       "37   ca_m_3712229_nw_10_060_20220518   \n",
       "870  ca_m_3712212_ne_10_060_20220519   \n",
       "416  ca_m_3712213_se_10_060_20220518   \n",
       "791  ca_m_3712213_se_10_060_20220518   \n",
       "..                               ...   \n",
       "64   ca_m_3712229_ne_10_060_20220518   \n",
       "65   ca_m_3712229_ne_10_060_20220518   \n",
       "66   ca_m_3712229_ne_10_060_20220518   \n",
       "67   ca_m_3712229_ne_10_060_20220518   \n",
       "68   ca_m_3712229_ne_10_060_20220518   \n",
       "\n",
       "                                            embeddings  \\\n",
       "36   [0.13175833, -0.09973948, -0.040465936, 0.0651...   \n",
       "37   [0.082306586, -0.10373349, 0.020833228, 0.1467...   \n",
       "870  [0.15164891, -0.08649829, 0.053330045, -0.1168...   \n",
       "416  [-0.09028356, -7.4659765e-05, -0.0054179365, 0...   \n",
       "791  [-0.11083804, 0.08467115, -0.15396121, -0.0175...   \n",
       "..                                                 ...   \n",
       "64   [0.054444104, 0.076543145, -0.02271817, -0.036...   \n",
       "65   [-0.06287075, 0.04157688, -0.12616414, 0.04595...   \n",
       "66   [-0.0744138, 0.032512434, -0.025697831, 0.1158...   \n",
       "67   [0.050141867, 0.03144994, -0.089793496, 0.0052...   \n",
       "68   [0.0016791783, -0.009175467, -0.02405702, 0.06...   \n",
       "\n",
       "                                              geometry  index_right  class  \n",
       "36   POLYGON ((-122.43789 37.62681, -122.43790 37.6...            1      0  \n",
       "37   POLYGON ((-122.43615 37.62680, -122.43616 37.6...            3      0  \n",
       "870  POLYGON ((-122.50382 37.84638, -122.50383 37.8...          163      0  \n",
       "416  POLYGON ((-122.37530 37.80046, -122.37532 37.7...          151      0  \n",
       "791  POLYGON ((-122.38414 37.78667, -122.38415 37.7...          149      0  \n",
       "..                                                 ...          ...    ...  \n",
       "64   POLYGON ((-122.39275 37.62552, -122.39276 37.6...           84      0  \n",
       "65   POLYGON ((-122.39101 37.62551, -122.39102 37.6...           90      0  \n",
       "66   POLYGON ((-122.38927 37.62550, -122.38928 37.6...           96      0  \n",
       "67   POLYGON ((-122.38753 37.62549, -122.38754 37.6...          100      0  \n",
       "68   POLYGON ((-122.38579 37.62549, -122.38580 37.6...          106      0  \n",
       "\n",
       "[216 rows x 5 columns]"
      ]
     },
     "execution_count": 6,
     "metadata": {},
     "output_type": "execute_result"
    }
   ],
   "source": [
    "# Open marinas training data\n",
    "points = gpd.read_file(\n",
    "    \"../../data/classify-embeddings-sf-baseball-marinas/marinas.geojson\"\n",
    ")\n",
    "\n",
    "# Uncomment this to use the baseball training dataset.\n",
    "# points = gpd.read_file(\n",
    "#     \"../../data/classify-embeddings-sf-baseball-marinas/baseball.geojson\"\n",
    "# )\n",
    "\n",
    "# Spatial join of training data with embeddings\n",
    "merged = embeddings.sjoin(points)\n",
    "print(f\"Found {len(merged)} embeddings to train on\")\n",
    "print(f\"{sum(merged['class'])} marked locations\")\n",
    "print(f\"{len(merged) - sum(merged['class'])} negative examples\")\n",
    "\n",
    "merged"
   ]
  },
  {
   "cell_type": "markdown",
   "metadata": {},
   "source": [
    "#### Plot the baseball trainingdata\n",
    "\n",
    "Green squares show positive examples, where blue ones are locations without the target content."
   ]
  },
  {
   "cell_type": "code",
   "execution_count": 7,
   "metadata": {},
   "outputs": [
    {
     "data": {
      "application/vnd.jupyter.widget-view+json": {
       "model_id": "e9daeda4541a409a9bf544055ac33559",
       "version_major": 2,
       "version_minor": 1
      },
      "text/plain": [
       "Map(layers=[PolygonLayer(get_fill_color=<pyarrow.lib.FixedSizeListArray object at 0x7d848f772740>\n",
       "[\n",
       "  [\n",
       "    0,…"
      ]
     },
     "execution_count": 7,
     "metadata": {},
     "output_type": "execute_result"
    }
   ],
   "source": [
    "training_layer = PolygonLayer.from_geopandas(\n",
    "    merged,\n",
    "    get_fill_color=apply_categorical_cmap(\n",
    "        merged[\"class\"], {0: [0, 150, 255, 100], 1: [0, 255, 150, 150]}\n",
    "    ),\n",
    "    get_line_color=[0, 100, 100, 0],\n",
    ")\n",
    "m = Map(training_layer)\n",
    "m"
   ]
  },
  {
   "cell_type": "markdown",
   "metadata": {},
   "source": [
    "### Train a classifier\n",
    "\n",
    "We extract the embeddings as `X` and the class labels as `y` from the merged table.\n",
    "\n",
    "Then we split the data into train and test groups, and fit a Random Forest classifier.\n",
    "\n",
    "Some basic accuracy statistics are shown."
   ]
  },
  {
   "cell_type": "code",
   "execution_count": 8,
   "metadata": {},
   "outputs": [
    {
     "name": "stdout",
     "output_type": "stream",
     "text": [
      "Accuracy is 0.9076923076923077\n",
      "Precision is 1.0\n",
      "Recall is 0.4\n"
     ]
    }
   ],
   "source": [
    "# Extract X and y and split into test/train set\n",
    "X = np.array([dat for dat in merged[\"embeddings\"].values])\n",
    "y = merged[\"class\"].values\n",
    "X_train, X_test, y_train, y_test = train_test_split(\n",
    "    X, y, test_size=0.3, random_state=42\n",
    ")\n",
    "\n",
    "# Fit Random Forest classifier\n",
    "model = RandomForestClassifier()\n",
    "model = model.fit(X_train, y_train)\n",
    "\n",
    "# Make test prediction and evaluate\n",
    "pred = model.predict(X_test)\n",
    "print(f\"Accuracy is {accuracy_score(y_test, pred)}\")\n",
    "print(f\"Precision is {precision_score(y_test, pred)}\")\n",
    "print(f\"Recall is {recall_score(y_test, pred)}\")"
   ]
  },
  {
   "cell_type": "markdown",
   "metadata": {},
   "source": [
    "### Detect target locations embeddings dataset\n",
    "\n",
    "The last step is to make predictions with the newly trained classifier. We apply the\n",
    "Random Forest model to the entire dataset of 36k embeddings. The prediction runs in 222\n",
    "milliseconds on a laptop with a GPU."
   ]
  },
  {
   "cell_type": "code",
   "execution_count": 9,
   "metadata": {},
   "outputs": [
    {
     "name": "stdout",
     "output_type": "stream",
     "text": [
      "CPU times: user 180 ms, sys: 526 µs, total: 181 ms\n",
      "Wall time: 180 ms\n",
      "Found 58 locations\n"
     ]
    }
   ],
   "source": [
    "%%time\n",
    "# Make inference on entire embedding dataset\n",
    "X = np.array([x for x in embeddings[\"embeddings\"]])\n",
    "predicted = model.predict(X)\n",
    "print(f\"Found {np.sum(predicted)} locations\")\n",
    "\n",
    "# Add inference to geopandas df and export\n",
    "result = embeddings[predicted.astype(\"bool\")]\n",
    "result = result[[\"item_id\", \"geometry\"]]"
   ]
  },
  {
   "cell_type": "markdown",
   "metadata": {},
   "source": [
    "#### Plot detected locations"
   ]
  },
  {
   "cell_type": "code",
   "execution_count": 10,
   "metadata": {},
   "outputs": [
    {
     "data": {
      "application/vnd.jupyter.widget-view+json": {
       "model_id": "7a484a2c1f0a4ff783bd5b55e1ae9dac",
       "version_major": 2,
       "version_minor": 1
      },
      "text/plain": [
       "Map(layers=[PolygonLayer(get_fill_color=<pyarrow.lib.FixedSizeListArray object at 0x7d848f772740>\n",
       "[\n",
       "  [\n",
       "    0,…"
      ]
     },
     "execution_count": 10,
     "metadata": {},
     "output_type": "execute_result"
    }
   ],
   "source": [
    "predicted_layer = PolygonLayer.from_geopandas(\n",
    "    result,\n",
    "    filled=False,\n",
    "    get_line_color=[255, 0, 0, 100],\n",
    "    get_line_width=50,\n",
    "    line_width_max_pixels=5,\n",
    ")\n",
    "m = Map([training_layer, predicted_layer])\n",
    "m"
   ]
  }
 ],
 "metadata": {
  "kernelspec": {
   "display_name": "Python 3 (ipykernel)",
   "language": "python",
   "name": "python3"
  },
  "language_info": {
   "codemirror_mode": {
    "name": "ipython",
    "version": 3
   },
   "file_extension": ".py",
   "mimetype": "text/x-python",
   "name": "python",
   "nbconvert_exporter": "python",
   "pygments_lexer": "ipython3",
   "version": "3.11.8"
  }
 },
 "nbformat": 4,
 "nbformat_minor": 4
}
