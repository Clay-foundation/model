{
 "cells": [
  {
   "cell_type": "code",
   "execution_count": 8,
   "id": "daf2ce7c-fef0-464a-8ca7-9a457890f245",
   "metadata": {},
   "outputs": [],
   "source": [
    "# Add the repo root to the sys path for the model import below\n",
    "import sys\n",
    "\n",
    "sys.path.append(\"../..\")"
   ]
  },
  {
   "cell_type": "code",
   "execution_count": 6,
   "id": "b943e3ee-55bf-4b07-a03e-baed01838982",
   "metadata": {},
   "outputs": [],
   "source": [
    "# from torchvision.transformers import v2\n",
    "# from claymodule.module import ClayMAEModule"
   ]
  },
  {
   "cell_type": "code",
   "execution_count": 4,
   "id": "0c4d59de-4818-4bfb-84af-aa43bf6e24e8",
   "metadata": {},
   "outputs": [
    {
     "name": "stdout",
     "output_type": "stream",
     "text": [
      "False\n"
     ]
    }
   ],
   "source": [
    "from torchvision import transforms\n",
    "\n",
    "print(hasattr(transforms, \"v2\"))"
   ]
  },
  {
   "cell_type": "code",
   "execution_count": 7,
   "id": "ba499594-4a04-4263-8e74-b2944fdc08bb",
   "metadata": {},
   "outputs": [
    {
     "ename": "ModuleNotFoundError",
     "evalue": "No module named 'torchvision.transformers'",
     "output_type": "error",
     "traceback": [
      "\u001b[31m---------------------------------------------------------------------------\u001b[39m",
      "\u001b[31mModuleNotFoundError\u001b[39m                       Traceback (most recent call last)",
      "\u001b[36mCell\u001b[39m\u001b[36m \u001b[39m\u001b[32mIn[7]\u001b[39m\u001b[32m, line 1\u001b[39m\n\u001b[32m----> \u001b[39m\u001b[32m1\u001b[39m \u001b[38;5;28;01mfrom\u001b[39;00m\u001b[38;5;250m \u001b[39m\u001b[34;01mtorchvision\u001b[39;00m\u001b[34;01m.\u001b[39;00m\u001b[34;01mtransformers\u001b[39;00m\u001b[38;5;250m \u001b[39m\u001b[38;5;28;01mimport\u001b[39;00m v2\n",
      "\u001b[31mModuleNotFoundError\u001b[39m: No module named 'torchvision.transformers'"
     ]
    }
   ],
   "source": []
  },
  {
   "cell_type": "code",
   "execution_count": null,
   "id": "6d200a02-2e9f-449b-bb8f-ab595d1e5126",
   "metadata": {},
   "outputs": [],
   "source": []
  }
 ],
 "metadata": {
  "kernelspec": {
   "display_name": "Python 3 (ipykernel)",
   "language": "python",
   "name": "python3"
  },
  "language_info": {
   "codemirror_mode": {
    "name": "ipython",
    "version": 3
   },
   "file_extension": ".py",
   "mimetype": "text/x-python",
   "name": "python",
   "nbconvert_exporter": "python",
   "pygments_lexer": "ipython3",
   "version": "3.11.13"
  }
 },
 "nbformat": 4,
 "nbformat_minor": 5
}
