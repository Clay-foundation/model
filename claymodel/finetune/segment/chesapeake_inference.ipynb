{
 "cells": [
  {
   "cell_type": "code",
   "execution_count": null,
   "id": "25d69a7d-5f0e-453a-8a7d-8ef4b100e72b",
   "metadata": {},
   "outputs": [],
   "source": [
    "import sys\n",
    "import warnings\n",
    "\n",
    "sys.path.append(\"../../\")\n",
    "warnings.filterwarnings(\"ignore\")"
   ]
  },
  {
   "cell_type": "code",
   "execution_count": null,
   "id": "34608fe0-9c89-4b39-b0b7-59d74efafdbe",
   "metadata": {},
   "outputs": [],
   "source": [
    "import matplotlib.pyplot as plt\n",
    "import numpy as np\n",
    "import torch\n",
    "import torch.nn.functional as F\n",
    "from einops import rearrange\n",
    "from matplotlib.colors import ListedColormap\n",
    "\n",
    "from finetune.segment.chesapeake_datamodule import ChesapeakeDataModule\n",
    "from finetune.segment.chesapeake_model import ChesapeakeSegmentor"
   ]
  },
  {
   "cell_type": "markdown",
   "id": "8873272f-89e7-48de-9115-7c9d21b62c1f",
   "metadata": {},
   "source": [
    "### Define paths and parameters"
   ]
  },
  {
   "cell_type": "code",
   "execution_count": null,
   "id": "d1ea85c6-5086-42b2-b032-489890554d84",
   "metadata": {},
   "outputs": [],
   "source": [
    "CHESAPEAKE_CHECKPOINT_PATH = (\n",
    "    \"../../checkpoints/segment/chesapeake-7class-segment_epoch-03_val-iou-0.8534.ckpt\"\n",
    ")\n",
    "CLAY_CHECKPOINT_PATH = \"../../checkpoints/clay-v1.5.ckpt\"\n",
    "METADATA_PATH = \"../../configs/metadata.yaml\"\n",
    "\n",
    "TRAIN_CHIP_DIR = \"../../data/cvpr/ny/train/chips/\"\n",
    "TRAIN_LABEL_DIR = \"../../data/cvpr/ny/train/labels/\"\n",
    "VAL_CHIP_DIR = \"../../data/cvpr/ny/val/chips/\"\n",
    "VAL_LABEL_DIR = \"../../data/cvpr/ny/val/labels/\"\n",
    "\n",
    "BATCH_SIZE = 32\n",
    "NUM_WORKERS = 1\n",
    "PLATFORM = \"naip\""
   ]
  },
  {
   "cell_type": "markdown",
   "id": "cc278db5-e241-4763-8f33-bdeb5b0f81fc",
   "metadata": {},
   "source": [
    "### Model Loading"
   ]
  },
  {
   "cell_type": "code",
   "execution_count": null,
   "id": "4b0da577-f3e5-485a-bbc5-a3ff7367e670",
   "metadata": {},
   "outputs": [],
   "source": [
    "def get_model(chesapeake_checkpoint_path, clay_checkpoint_path, metadata_path):\n",
    "    model = ChesapeakeSegmentor.load_from_checkpoint(\n",
    "        checkpoint_path=chesapeake_checkpoint_path,\n",
    "        metadata_path=metadata_path,\n",
    "        ckpt_path=clay_checkpoint_path,\n",
    "    )\n",
    "    model.eval()\n",
    "    return model"
   ]
  },
  {
   "cell_type": "markdown",
   "id": "2d9ba7fc-f1ca-465c-be66-15edca8e8419",
   "metadata": {},
   "source": [
    "### Data Preparation"
   ]
  },
  {
   "cell_type": "code",
   "execution_count": null,
   "id": "3402cf0a-cb9b-47c4-a12a-bb704912edfd",
   "metadata": {},
   "outputs": [],
   "source": [
    "def get_data(\n",
    "    train_chip_dir,\n",
    "    train_label_dir,\n",
    "    val_chip_dir,\n",
    "    val_label_dir,\n",
    "    metadata_path,\n",
    "    batch_size,\n",
    "    num_workers,\n",
    "    platform,\n",
    "):\n",
    "    dm = ChesapeakeDataModule(\n",
    "        train_chip_dir=train_chip_dir,\n",
    "        train_label_dir=train_label_dir,\n",
    "        val_chip_dir=val_chip_dir,\n",
    "        val_label_dir=val_label_dir,\n",
    "        metadata_path=metadata_path,\n",
    "        batch_size=batch_size,\n",
    "        num_workers=num_workers,\n",
    "        platform=platform,\n",
    "    )\n",
    "    dm.setup(stage=\"fit\")\n",
    "    val_dl = iter(dm.val_dataloader())\n",
    "    batch = next(val_dl)\n",
    "    metadata = dm.metadata\n",
    "    return batch, metadata"
   ]
  },
  {
   "cell_type": "markdown",
   "id": "ea94afc8-c507-41b8-a3be-dd130ff90c72",
   "metadata": {},
   "source": [
    "### Prediction"
   ]
  },
  {
   "cell_type": "code",
   "execution_count": null,
   "id": "d7d71514-47b0-447b-899b-5aef44c38bc2",
   "metadata": {},
   "outputs": [],
   "source": [
    "def run_prediction(model, batch):\n",
    "    with torch.no_grad():\n",
    "        outputs = model(batch)\n",
    "    outputs = F.interpolate(\n",
    "        outputs, size=(256, 256), mode=\"bilinear\", align_corners=False\n",
    "    )\n",
    "    return outputs"
   ]
  },
  {
   "cell_type": "markdown",
   "id": "2a64735f-70b1-4d05-acd9-2a0812545cfa",
   "metadata": {},
   "source": [
    "### Post-Processing"
   ]
  },
  {
   "cell_type": "code",
   "execution_count": null,
   "id": "7d69561e-b7ab-4f4d-b426-2d0cccc949f3",
   "metadata": {},
   "outputs": [],
   "source": [
    "def denormalize_images(normalized_images, means, stds):\n",
    "    means = np.array(means).reshape(1, -1, 1, 1)\n",
    "    stds = np.array(stds).reshape(1, -1, 1, 1)\n",
    "    denormalized_images = normalized_images * stds + means\n",
    "    return denormalized_images.astype(np.uint8)  # Do for NAIP/LINZ\n",
    "\n",
    "\n",
    "def post_process(batch, outputs, metadata):\n",
    "    preds = torch.argmax(outputs, dim=1).detach().cpu().numpy()\n",
    "    labels = batch[\"label\"].detach().cpu().numpy()\n",
    "    pixels = batch[\"pixels\"].detach().cpu().numpy()\n",
    "\n",
    "    means = list(metadata[\"naip\"].bands.mean.values())\n",
    "    stds = list(metadata[\"naip\"].bands.std.values())\n",
    "    norm_pixels = denormalize_images(pixels, means, stds)\n",
    "\n",
    "    images = rearrange(norm_pixels[:, :3, :, :], \"b c h w -> b h w c\")\n",
    "\n",
    "    return images, labels, preds"
   ]
  },
  {
   "cell_type": "markdown",
   "id": "ef86d23c-eca7-458a-99ef-fff4534b927e",
   "metadata": {},
   "source": [
    "### Plotting"
   ]
  },
  {
   "cell_type": "code",
   "execution_count": null,
   "id": "368b1925-be0f-47a5-bbb9-c642c3f04afa",
   "metadata": {},
   "outputs": [],
   "source": [
    "def plot_predictions(images, labels, preds):\n",
    "    colors = [\n",
    "        (0 / 255, 0 / 255, 255 / 255, 1),  # Deep Blue for water\n",
    "        (34 / 255, 139 / 255, 34 / 255, 1),  # Forest Green for tree canopy / forest\n",
    "        (154 / 255, 205 / 255, 50 / 255, 1),  # Yellow Green for low vegetation / field\n",
    "        (210 / 255, 180 / 255, 140 / 255, 1),  # Tan for barren land\n",
    "        (169 / 255, 169 / 255, 169 / 255, 1),  # Dark Gray for impervious (other)\n",
    "        (105 / 255, 105 / 255, 105 / 255, 1),  # Dim Gray for impervious (road)\n",
    "        (255 / 255, 255 / 255, 255 / 255, 1),  # White for no data\n",
    "    ]\n",
    "    cmap = ListedColormap(colors)\n",
    "\n",
    "    fig, axes = plt.subplots(12, 8, figsize=(12, 18))\n",
    "\n",
    "    # Plot the images\n",
    "    plot_data(axes, images, row_offset=0, title=\"Image\")\n",
    "\n",
    "    # Plot the actual segmentation maps\n",
    "    plot_data(axes, labels, row_offset=1, title=\"Actual\", cmap=cmap, vmin=0, vmax=6)\n",
    "\n",
    "    # Plot the predicted segmentation maps\n",
    "    plot_data(axes, preds, row_offset=2, title=\"Pred\", cmap=cmap, vmin=0, vmax=6)\n",
    "\n",
    "    plt.tight_layout()\n",
    "    plt.show()\n",
    "\n",
    "\n",
    "def plot_data(ax, data, row_offset, title=None, cmap=None, vmin=None, vmax=None):\n",
    "    for i, item in enumerate(data):\n",
    "        row = row_offset + (i // 8) * 3\n",
    "        col = i % 8\n",
    "        ax[row, col].imshow(item, cmap=cmap, vmin=vmin, vmax=vmax)\n",
    "        ax[row, col].axis(\"off\")\n",
    "        if title and col == 0:\n",
    "            ax[row, col].set_title(title, rotation=0, fontsize=12)"
   ]
  },
  {
   "cell_type": "code",
   "execution_count": null,
   "id": "30d9b66b-ea25-4697-83be-776abb40db9b",
   "metadata": {},
   "outputs": [],
   "source": [
    "# Load model\n",
    "model = get_model(CHESAPEAKE_CHECKPOINT_PATH, CLAY_CHECKPOINT_PATH, METADATA_PATH)"
   ]
  },
  {
   "cell_type": "code",
   "execution_count": null,
   "id": "ac07a050-c55d-4392-9461-a16afdb65f8f",
   "metadata": {},
   "outputs": [],
   "source": [
    "# Get data\n",
    "batch, metadata = get_data(\n",
    "    TRAIN_CHIP_DIR,\n",
    "    TRAIN_LABEL_DIR,\n",
    "    VAL_CHIP_DIR,\n",
    "    VAL_LABEL_DIR,\n",
    "    METADATA_PATH,\n",
    "    BATCH_SIZE,\n",
    "    NUM_WORKERS,\n",
    "    PLATFORM,\n",
    ")\n",
    "# Move batch to GPU\n",
    "batch = {k: v.to(\"cuda\") for k, v in batch.items()}"
   ]
  },
  {
   "cell_type": "code",
   "execution_count": null,
   "id": "0f41e9f1-9387-4b97-ab6b-9273dd80f317",
   "metadata": {},
   "outputs": [],
   "source": [
    "# Run prediction\n",
    "outputs = run_prediction(model, batch)"
   ]
  },
  {
   "cell_type": "code",
   "execution_count": null,
   "id": "648f7d5b-5ec1-4f43-8cf9-32d9b79efe00",
   "metadata": {},
   "outputs": [],
   "source": [
    "# Post-process the results\n",
    "images, labels, preds = post_process(batch, outputs, metadata)"
   ]
  },
  {
   "cell_type": "code",
   "execution_count": null,
   "id": "b110995b-46d9-416a-a42c-d53d2955671e",
   "metadata": {},
   "outputs": [],
   "source": [
    "# Plot the predictions\n",
    "plot_predictions(images, labels, preds)"
   ]
  },
  {
   "cell_type": "code",
   "execution_count": null,
   "id": "1cfade62-f5ef-4b09-9b8d-f084e6dab075",
   "metadata": {},
   "outputs": [],
   "source": []
  }
 ],
 "metadata": {
  "kernelspec": {
   "display_name": "Python 3 (ipykernel)",
   "language": "python",
   "name": "python3"
  },
  "language_info": {
   "codemirror_mode": {
    "name": "ipython",
    "version": 3
   },
   "file_extension": ".py",
   "mimetype": "text/x-python",
   "name": "python",
   "nbconvert_exporter": "python",
   "pygments_lexer": "ipython3",
   "version": "3.11.9"
  }
 },
 "nbformat": 4,
 "nbformat_minor": 5
}
